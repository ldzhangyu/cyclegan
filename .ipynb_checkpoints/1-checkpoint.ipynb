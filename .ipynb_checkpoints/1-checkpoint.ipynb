{
 "cells": [
  {
   "cell_type": "code",
   "execution_count": 17,
   "id": "ba7566be-1991-4f9e-b723-5189db8ccee9",
   "metadata": {},
   "outputs": [
    {
     "name": "stdout",
     "output_type": "stream",
     "text": [
      "initialize network with normal\n"
     ]
    }
   ],
   "source": [
    "import os\n",
    "import cv2\n",
    "import time\n",
    "import shutil\n",
    " \n",
    "def getAllPath(dirpath, *suffix):\n",
    "    PathArray = []\n",
    "    for r, ds, fs in os.walk(dirpath):\n",
    "        for fn in fs:\n",
    "            if os.path.splitext(fn)[1] in suffix:\n",
    "                fname = os.path.join(r, fn)\n",
    "                PathArray.append(fname)\n",
    "    return PathArray\n",
    " \n",
    "def readPicSaveFace_1(sourcePath,targetPath,*suffix):\n",
    "    try:\n",
    "        ImagePaths=getAllPath(sourcePath, *suffix)\n",
    " \n",
    "        #对list中图片逐一进行检查,找出其中的人脸然后写到目标文件夹下\n",
    "        count = 1\n",
    "        # haarcascade_frontalface_alt.xml为库训练好的分类器文件，下载opencv，安装目录中可找到\n",
    "        face_cascade = cv2.CascadeClassifier('/Users/zhangyu/python/opencv-4.3.0/data/haarcascades/haarcascade_frontalface_alt.xml')\n",
    "        for imagePath in ImagePaths:\n",
    "            try:\n",
    "                img = cv2.imread(imagePath)\n",
    " \n",
    "                if type(img) != str:\n",
    "                    faces = face_cascade.detectMultiScale(img, 1.1, 5)\n",
    "                    if len(faces):\n",
    "                        for (x, y, w, h) in faces:\n",
    "                        # 设置人脸宽度大于16像素，去除较小的人脸\n",
    "                            if w>=16 and h>=16:\n",
    "                            # 以时间戳和读取的排序作为文件名称\n",
    "                                listStr = [str(int(time.time())), str(count)]\n",
    "                                fileName = ''.join(listStr)\n",
    "                            # 扩大图片，可根据坐标调整\n",
    "                                X = int(x)\n",
    "                                W = min(int(x + w),img.shape[1])\n",
    "                                Y = int(y)\n",
    "                                H = min(int(y + h),img.shape[0])\n",
    " \n",
    "                                f = cv2.resize(img[Y:H, X:W], (W-X,H-Y))\n",
    "                                cv2.imwrite(targetPath+os.sep+'%s.jpg' % fileName, f)\n",
    "                                count += 1\n",
    "                                print  (imagePath + \"have face\")\n",
    "                    #else:\n",
    "                     #   shutil.move(imagePath, invalidPath)\n",
    "            except:\n",
    "                continue\n",
    "    except IOError:\n",
    "        print (\"Error\")\n",
    "    else:\n",
    "        print ('Find '+str(count-1)+' faces to Destination '+targetPath)\n",
    " \n",
    "if __name__ == '__main__':\n",
    "    sourcePath = '/Users/zhangyu/python/cyclegan/datasets/1'\n",
    "    targetPath1 = '/Users/zhangyu/python/cyclegan/datasets/2'\n",
    "    readPicSaveFace_1(sourcePath,targetPath1,'.jpg','.JPG','png','PNG')\n"
   ]
  }
 ],
 "metadata": {
  "kernelspec": {
   "display_name": "Python 3",
   "language": "python",
   "name": "python3"
  },
  "language_info": {
   "codemirror_mode": {
    "name": "ipython",
    "version": 3
   },
   "file_extension": ".py",
   "mimetype": "text/x-python",
   "name": "python",
   "nbconvert_exporter": "python",
   "pygments_lexer": "ipython3",
   "version": "3.8.8"
  }
 },
 "nbformat": 4,
 "nbformat_minor": 5
}
