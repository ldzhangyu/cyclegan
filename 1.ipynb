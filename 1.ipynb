{
 "cells": [
  {
   "cell_type": "code",
   "execution_count": null,
   "id": "494950fc",
   "metadata": {},
   "outputs": [],
   "source": [
    "import os\n",
    "import cv2\n",
    "import time\n",
    "import shutil\n",
    " \n",
    "def getAllPath(dirpath, *suffix):\n",
    "    PathArray = []\n",
    "    for r, ds, fs in os.walk(dirpath):\n",
    "        for fn in fs:\n",
    "            if os.path.splitext(fn)[1] in suffix:\n",
    "                fname = os.path.join(r, fn)\n",
    "                PathArray.append(fname)\n",
    "    return PathArray\n",
    " \n",
    "def readPicSaveFace_1(sourcePath,targetPath,*suffix):\n",
    "    try:\n",
    "        ImagePaths=getAllPath(sourcePath, *suffix)\n",
    " \n",
    "        #对list中图片逐一进行检查,找出其中的人脸然后写到目标文件夹下\n",
    "        count = 1\n",
    "        # haarcascade_frontalface_alt.xml为库训练好的分类器文件，下载opencv，安装目录中可找到\n",
    "        face_cascade = cv2.CascadeClassifier('/Users/zhangyu/python/opencv-4.3.0/data/haarcascades/haarcascade_frontalface_alt.xml')\n",
    "        for imagePath in ImagePaths:\n",
    "            try:\n",
    "                img = cv2.imread(imagePath)\n",
    " \n",
    "                if type(img) != str:\n",
    "                    faces = face_cascade.detectMultiScale(img, 1.1, 5)\n",
    "                    if len(faces):\n",
    "                        for (x, y, w, h) in faces:\n",
    "                        # 设置人脸宽度大于16像素，去除较小的人脸\n",
    "                            if w>=16 and h>=16:\n",
    "                            # 以时间戳和读取的排序作为文件名称\n",
    "                                listStr = [str(int(time.time())), str(count)]\n",
    "                                fileName = ''.join(listStr)\n",
    "                            # 扩大图片，可根据坐标调整\n",
    "                                X = int(x)\n",
    "                                W = min(int(x + w),img.shape[1])\n",
    "                                Y = int(y)\n",
    "                                H = min(int(y + h),img.shape[0])\n",
    " \n",
    "                                f = cv2.resize(img[Y:H, X:W], (W-X,H-Y))\n",
    "                                cv2.imwrite(targetPath+os.sep+'%s.jpg' % fileName, f)\n",
    "                                count += 1\n",
    "                                print  (imagePath + \"have face\")\n",
    "                    #else:\n",
    "                     #   shutil.move(imagePath, invalidPath)\n",
    "            except:\n",
    "                continue\n",
    "    except IOError:\n",
    "        print (\"Error\")\n",
    "    else:\n",
    "        print ('Find '+str(count-1)+' faces to Destination '+targetPath)\n",
    " \n",
    "if __name__ == '__main__':\n",
    "    sourcePath = '/Users/zhangyu/python/cyclegan/datasets/1'\n",
    "    targetPath1 = '/Users/zhangyu/python/cyclegan/datasets/2'\n",
    "    readPicSaveFace_1(sourcePath,targetPath1,'.jpg','.JPG','png','PNG')\n"
   ]
  },
  {
   "cell_type": "code",
   "execution_count": null,
   "id": "637b4362",
   "metadata": {},
   "outputs": [],
   "source": []
  },
  {
   "cell_type": "code",
   "execution_count": 3,
   "id": "b40877b6",
   "metadata": {},
   "outputs": [
    {
     "name": "stderr",
     "output_type": "stream",
     "text": [
      "100%|██████████| 3/3 [00:00<00:00, 34.14it/s]"
     ]
    },
    {
     "name": "stdout",
     "output_type": "stream",
     "text": [
      "write  16261697333.jpg\n",
      "write  16261697302.jpg\n",
      "write  16261697261.jpg\n"
     ]
    },
    {
     "name": "stderr",
     "output_type": "stream",
     "text": [
      "\n"
     ]
    }
   ],
   "source": [
    "import os\n",
    "import cv2\n",
    "import numpy as np\n",
    "from tqdm import tqdm\n",
    "import argparse\n",
    "\n",
    "data_path = '/Users/zhangyu/python/cyclegan/datasets/2'\n",
    "\n",
    "for idx, img_name in enumerate(tqdm(os.listdir(data_path))):\n",
    "    img = cv2.imread(os.path.join(data_path, img_name))\n",
    "    if img is None:\n",
    "       continue\n",
    "    else:\n",
    "        size = (256, 256)\n",
    "        newImg = cv2.resize(img, size)\n",
    "        # cv2.imwrite(os.path.join((args.save_path), img_name), newImg)\n",
    "        cv2.imwrite(data_path+'/new_'+ img_name, newImg)\n",
    "        print('write ',img_name)"
   ]
  },
  {
   "cell_type": "code",
   "execution_count": 5,
   "id": "d2bcf4f9",
   "metadata": {},
   "outputs": [
    {
     "name": "stdout",
     "output_type": "stream",
     "text": [
      "----------------- Options ---------------\n",
      "             aspect_ratio: 1.0                           \n",
      "               batch_size: 1                             \n",
      "          checkpoints_dir: ./checkpoints                 \n",
      "                crop_size: 256                           \n",
      "                 dataroot: datasets/bitmoji/testOne      \t[default: None]\n",
      "             dataset_mode: single                        \n",
      "                direction: AtoB                          \n",
      "          display_winsize: 256                           \n",
      "                    epoch: latest                        \n",
      "                     eval: False                         \n",
      "                  gpu_ids: -1                            \t[default: 0]\n",
      "                init_gain: 0.02                          \n",
      "                init_type: normal                        \n",
      "                 input_nc: 3                             \n",
      "                  isTrain: False                         \t[default: None]\n",
      "                load_iter: 0                             \t[default: 0]\n",
      "                load_size: 256                           \n",
      "         max_dataset_size: inf                           \n",
      "                    model: test                          \n",
      "             model_suffix:                               \n",
      "               n_layers_D: 3                             \n",
      "                     name: bitmoji_cyclegan              \t[default: experiment_name]\n",
      "                      ndf: 64                            \n",
      "                     netD: basic                         \n",
      "                     netG: resnet_9blocks                \n",
      "                      ngf: 64                            \n",
      "               no_dropout: True                          \t[default: False]\n",
      "                  no_flip: False                         \n",
      "                     norm: instance                      \n",
      "                 num_test: 50                            \n",
      "              num_threads: 4                             \n",
      "                output_nc: 3                             \n",
      "                    phase: test                          \n",
      "               preprocess: resize_and_crop               \n",
      "              results_dir: ./results/                    \n",
      "           serial_batches: False                         \n",
      "                   suffix:                               \n",
      "                  verbose: False                         \n",
      "----------------- End -------------------\n",
      "dataset [SingleDataset] was created\n",
      "initialize network with normal\n",
      "model [TestModel] was created\n",
      "loading the model from ./checkpoints/bitmoji_cyclegan/latest_net_G.pth\n",
      "---------- Networks initialized -------------\n",
      "[Network G] Total number of parameters : 11.378 M\n",
      "-----------------------------------------------\n",
      "creating web directory ./results/bitmoji_cyclegan/test_latest\n",
      "processing (0000)-th image... ['datasets/bitmoji/testOne/709F1F49-AE4F-4461-8A8C-64E32721F22A.png']\n"
     ]
    }
   ],
   "source": [
    "%run test.py --dataroot datasets/bitmoji/testOne --name bitmoji_cyclegan --model test --no_dropout --gpu_ids -1"
   ]
  },
  {
   "cell_type": "code",
   "execution_count": null,
   "id": "bae8b3a3",
   "metadata": {},
   "outputs": [],
   "source": []
  },
  {
   "cell_type": "code",
   "execution_count": 7,
   "id": "363b71fc",
   "metadata": {},
   "outputs": [
    {
     "name": "stderr",
     "output_type": "stream",
     "text": [
      "100%|██████████| 2/2 [00:00<00:00, 129.57it/s]"
     ]
    },
    {
     "name": "stdout",
     "output_type": "stream",
     "text": [
      "write  1.png\n"
     ]
    },
    {
     "name": "stderr",
     "output_type": "stream",
     "text": [
      "\n"
     ]
    }
   ],
   "source": [
    "%run resize.py"
   ]
  }
 ],
 "metadata": {
  "kernelspec": {
   "display_name": "Python 3",
   "language": "python",
   "name": "python3"
  },
  "language_info": {
   "codemirror_mode": {
    "name": "ipython",
    "version": 3
   },
   "file_extension": ".py",
   "mimetype": "text/x-python",
   "name": "python",
   "nbconvert_exporter": "python",
   "pygments_lexer": "ipython3",
   "version": "3.8.8"
  }
 },
 "nbformat": 4,
 "nbformat_minor": 5
}
